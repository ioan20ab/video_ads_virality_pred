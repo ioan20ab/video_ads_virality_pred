{
 "cells": [
  {
   "cell_type": "code",
   "execution_count": 29,
   "id": "1bc100b8",
   "metadata": {},
   "outputs": [],
   "source": [
    "import pandas as pd\n",
    "# import deepface\n",
    "from deepface import DeepFace\n",
    "from deepface.detectors import FaceDetector\n",
    "\n",
    "import os\n",
    "\n",
    "import matplotlib.pyplot as plt\n",
    "\n",
    "\n"
   ]
  },
  {
   "cell_type": "code",
   "execution_count": 5,
   "id": "5e044e7b",
   "metadata": {},
   "outputs": [],
   "source": [
    "# import tensorflow as tf\n",
    "# # print(tf.__version__)"
   ]
  },
  {
   "cell_type": "code",
   "execution_count": 45,
   "id": "b291150f",
   "metadata": {},
   "outputs": [],
   "source": [
    "pth1 = \"C:\\\\Users\\\\rober\\\\all_df.txt\"\n",
    "pth5 = \"D:\\\\_CBS\\\\_Thesis\\\\_Project\\\\Video ads\\\\_DATA 5\"\n",
    "pth6 = \"C:\\\\_CBS\\\\_Thesis\\\\_Project\\\\Video ads\\\\_DATA 6\"\n",
    "\n",
    "columns1= [\"url\", \"url_path\", \"frame\", \"frame_path\"]\n",
    "\n",
    "backends = [ \"opencv\", \"ssd\", \"dlib\", \"mtcnn\", \"retinaface\", \"mediapipe\"]\n",
    "\n",
    "def substring_after(s,delim):\n",
    "    return s.partition(delim)[2]\n",
    "\n",
    "def substring_before(s,delim):\n",
    "    return s.partition(delim)[0]\n",
    "\n",
    "def detect_fa(path, backend):\n",
    "    face = DeepFace.extract_faces(path, detector_backend=backend)\n",
    "    return face"
   ]
  },
  {
   "cell_type": "code",
   "execution_count": 8,
   "id": "aa0302f4",
   "metadata": {},
   "outputs": [],
   "source": [
    "\n",
    "data = pd.read_csv(pth1, sep = \";\", header = None, names = columns1)"
   ]
  },
  {
   "cell_type": "code",
   "execution_count": 9,
   "id": "6f4695af",
   "metadata": {},
   "outputs": [
    {
     "name": "stdout",
     "output_type": "stream",
     "text": [
      "1107622\n",
      "CkF1rck0hIc\n",
      "D:\\_CBS\\_Thesis\\_Project\\Video ads\\_DATA 5\\CkF1rck0hIc\n",
      "CkF1rck0hIc~frame0-00-00.00.jpg\n",
      "D:\\_CBS\\_Thesis\\_Project\\Video ads\\_DATA 5\\CkF1rck0hIc\\CkF1rck0hIc~frame0-00-00.00.jpg\n"
     ]
    }
   ],
   "source": [
    "print(len(data))\n",
    "print(data.iloc[0,0])\n",
    "print(data.iloc[0,1])\n",
    "print(data.iloc[0,2])\n",
    "print(data.iloc[0,3])\n",
    "# print(data.isnull().sum)"
   ]
  },
  {
   "cell_type": "code",
   "execution_count": 10,
   "id": "c2184553",
   "metadata": {},
   "outputs": [
    {
     "name": "stdout",
     "output_type": "stream",
     "text": [
      "0\n"
     ]
    }
   ],
   "source": [
    "# check if #NAME\n",
    "\n",
    "filter_data = data[data.isin(['#NAME']).any(axis = 1)]\n",
    "print(len(filter_data))"
   ]
  },
  {
   "cell_type": "code",
   "execution_count": 33,
   "id": "8677e305",
   "metadata": {},
   "outputs": [
    {
     "ename": "SyntaxError",
     "evalue": "'continue' not properly in loop (1516780436.py, line 7)",
     "output_type": "error",
     "traceback": [
      "\u001b[1;36m  Cell \u001b[1;32mIn[33], line 7\u001b[1;36m\u001b[0m\n\u001b[1;33m    continue\u001b[0m\n\u001b[1;37m    ^\u001b[0m\n\u001b[1;31mSyntaxError\u001b[0m\u001b[1;31m:\u001b[0m 'continue' not properly in loop\n"
     ]
    }
   ],
   "source": [
    "data.iloc[0, 0]\n",
    "# faces_retina1 = detect_fa(data.iloc[0, 3], backends[4])\n",
    "\n",
    "\n",
    "try:\n",
    "    faces_retina1 = detect_fa(\"D:\\_CBS\\_Thesis\\_Project\\Video ads\\_DATA 5\\__C7sd_UDU0\\__C7sd_UDU0~frame0-00-00.00.jpg\", backends[4])\n",
    "\n",
    "except:\n",
    "    continue\n",
    "    \n",
    "    \n",
    "\n",
    "# D:\\_CBS\\_Thesis\\_Project\\Video ads\\_DATA 5\\__C7sd_UDU0\\__C7sd_UDU0~frame0-00-00.92.jpg\n",
    "# print(faces_retina1[0][\"face\"])\n"
   ]
  },
  {
   "cell_type": "code",
   "execution_count": 36,
   "id": "ee7f38c3",
   "metadata": {},
   "outputs": [],
   "source": [
    "# face = faces_retina1[0][\"face\"]\n",
    "# plt.imshow(face)\n",
    "\n",
    "\n",
    "os.mkdir(\"D:\\_CBS\\_Thesis\\_Project\\Video ads\\_DATA 6\\__C7sd_UDU0\")\n",
    "plt.imsave(\"D:\\_CBS\\_Thesis\\_Project\\Video ads\\_DATA 6\\__C7sd_UDU0\\__C7sd_UDU0~frame0-00-00.00~~1.jpg\", face)"
   ]
  },
  {
   "cell_type": "code",
   "execution_count": null,
   "id": "41aed60e",
   "metadata": {},
   "outputs": [],
   "source": [
    "\n",
    "# range of data\n",
    "for i in range(len(data)):\n",
    "    \n",
    "    try:\n",
    "        faces_retina = detect_fa(data.iloc[i, 3], backends[4])\n",
    "        #range x, of faces detected in i\n",
    "        for x in range(len(faces_retina)):\n",
    "            # --> MAKE URL DIR IN DATA 6\n",
    "            data6_url_dir = os.path.join(pth6, str(data.iloc[i, 0]) )\n",
    "            if os.path.isdir(data6_url_dir):\n",
    "\n",
    "                #CHECK IF THE FRAME HAS FOLDER\n",
    "                frame = substring_before(data.iloc[i, 2], \".jpg\")\n",
    "                frame_folder = os.path.join(data6_url_dir, frame)\n",
    "                if os.path.isdir(frame_folder):\n",
    "                    #if there is frame folder, save face x\n",
    "                    face = faces_retina[x][\"face\"]\n",
    "                    #make face path\n",
    "                    face_filename = frame+\"~~\"+str(x)+\".jpg\"\n",
    "                    face_path = os.path.join(frame_folder, face_filename)\n",
    "                    \n",
    "                    #check if face file exists   \n",
    "                    if os.path.isfile(face_path):\n",
    "                        print(\"face: \"+face_filename+ \" exists\")\n",
    "                        \n",
    "                    elif not os.path.isfile(face_path):\n",
    "                        # save the face\n",
    "                        plt.imsave(face_path, face)\n",
    "\n",
    "                elif not os.path.isdir(frame_folder):\n",
    "                    # if there is no frame folder first make folder, and then save face x\n",
    "                    os.mkdir(frame_folder)\n",
    "                    \n",
    "                    face = faces_retina[x][\"face\"]\n",
    "                    #make face path\n",
    "                    face_filename = frame+\"~~\"+str(x)+\".jpg\"\n",
    "                    face_path = os.path.join(frame_folder, face_filename)\n",
    "\n",
    "                    #check if face file exists   \n",
    "                    if os.path.isfile(face_path):\n",
    "                        print(\"face: \"+face_filename+ \" exists\")\n",
    "                        \n",
    "                    elif not os.path.isfile(face_path):\n",
    "                        # save the face\n",
    "                        plt.imsave(face_path, face)\n",
    "                    \n",
    "        \n",
    "        \n",
    "\n",
    "\n",
    "\n",
    "            elif not os.path.isdir(data6_url_dir):\n",
    "                # if URL folder doesnt exist make folder and then the same\n",
    "                os.mkdir(data6_url_dir)\n",
    "\n",
    "                #CHECK IF THE FRAME HAS FOLDER\n",
    "                frame = substring_before(data.iloc[i, 2], \".jpg\")\n",
    "                frame_folder = os.path.join(data6_url_dir, frame)\n",
    "                if os.path.isdir(frame_folder):\n",
    "                    #if there is frame folder, save face x\n",
    "                    face = faces_retina[x][\"face\"]\n",
    "                    #make face path\n",
    "                    face_filename = frame+\"~~\"+str(x)+\".jpg\"\n",
    "                    face_path = os.path.join(frame_folder, face_filename)\n",
    "                    \n",
    "                    #check if face file exists   \n",
    "                    if os.path.isfile(face_path):\n",
    "                        print(\"face: \"+face_filename+ \" exists\")\n",
    "                        \n",
    "                    elif not os.path.isfile(face_path):\n",
    "                        # save the face\n",
    "                        plt.imsave(face_path, face)\n",
    "\n",
    "                elif not os.path.isdir(frame_folder):\n",
    "                    # if there is no frame folder first make folder, and then save face x\n",
    "                    os.mkdir(frame_folder)\n",
    "                    \n",
    "                    face = faces_retina[x][\"face\"]\n",
    "                    #make face path\n",
    "                    face_filename = frame+\"~~\"+str(x)+\".jpg\"\n",
    "                    face_path = os.path.join(frame_folder, face_filename)\n",
    "\n",
    "                    #check if face file exists   \n",
    "                    if os.path.isfile(face_path):\n",
    "                        print(\"face: \"+face_filename+ \" exists\")\n",
    "                        \n",
    "                    elif not os.path.isfile(face_path):\n",
    "                        # save the face\n",
    "                        plt.imsave(face_path, face)\n",
    "            \n",
    "    \n",
    "    except:\n",
    "        continue\n",
    "    \n",
    "    \n",
    "    \n",
    "\n",
    "        \n",
    "        \n",
    "        \n",
    "\n",
    "    \n",
    "    \n",
    "\n",
    "\n"
   ]
  },
  {
   "cell_type": "code",
   "execution_count": null,
   "id": "dd1c50dd",
   "metadata": {},
   "outputs": [],
   "source": []
  }
 ],
 "metadata": {
  "kernelspec": {
   "display_name": "Python 3 (ipykernel)",
   "language": "python",
   "name": "python3"
  },
  "language_info": {
   "codemirror_mode": {
    "name": "ipython",
    "version": 3
   },
   "file_extension": ".py",
   "mimetype": "text/x-python",
   "name": "python",
   "nbconvert_exporter": "python",
   "pygments_lexer": "ipython3",
   "version": "3.8.3"
  }
 },
 "nbformat": 4,
 "nbformat_minor": 5
}
