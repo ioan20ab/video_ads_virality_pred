{
 "cells": [
  {
   "cell_type": "code",
   "execution_count": 9,
   "id": "cb11275e",
   "metadata": {},
   "outputs": [
    {
     "data": {
      "text/plain": [
       "43"
      ]
     },
     "execution_count": 9,
     "metadata": {},
     "output_type": "execute_result"
    }
   ],
   "source": [
    "import pandas as pd\n",
    "import seaborn as sns\n",
    "import statistics \n",
    "import numpy as np\n",
    "import matplotlib.pyplot as plt\n",
    "\n",
    "path3 = \"C:\\\\_CBS\\\\_Thesis\\\\_Project\\\\Video ads\\\\_DATA 5\\\\DATA FINAL\\\\data_viral_e_t2.txt\"\n",
    "columns3 = ['url',\n",
    " 'url_frame',\n",
    " 'url_path',\n",
    " 'frame_path',\n",
    " 'dominant_emotion',\n",
    " 'age',\n",
    " 'dominant_gender',\n",
    " 'no_of_faces',\n",
    " 'face_id',\n",
    " 'viewCount',\n",
    " 'likeCount',\n",
    " 'favoriteCount',\n",
    " 'commentCount',\n",
    " 'happy',\n",
    " 'happy_scalar',\n",
    " 'positive_emotions_scalar',\n",
    " 'fear',\n",
    " 'fear_scalar',\n",
    " 'negative_emotions_scalar',\n",
    " 'sad',\n",
    " 'sad_scalar',\n",
    " 'neutral',\n",
    " 'neutral_scalar',\n",
    " 'angry',\n",
    " 'angry_scalar',\n",
    " 'disgust',\n",
    " 'disgust_scalar',\n",
    " 'surprise',\n",
    " 'surprise_scalar',\n",
    " 'positive_moving_average',\n",
    " 'negative_moving_average',\n",
    " 'positive_sustained',\n",
    " 'positive_build',\n",
    " 'negative_pivot_point',\n",
    " 'negative_build',\n",
    " 'negative_sustained',\n",
    " 'positive_pivot_point',\n",
    " 'negative_transition',\n",
    " 'positive_transition',\n",
    " 'exciting',\n",
    " 'funny',\n",
    " 'likes_per_views',\n",
    " 'comments_per_views']\n",
    "\n",
    "data1=pd.read_csv(path3, sep=',', header=None, names=columns3)\n",
    "data1.head(5)\n",
    "len(data1.columns)"
   ]
  },
  {
   "cell_type": "code",
   "execution_count": 11,
   "id": "a5e69db1",
   "metadata": {},
   "outputs": [
    {
     "name": "stdout",
     "output_type": "stream",
     "text": [
      "348\n"
     ]
    }
   ],
   "source": [
    "columns4 = ['url','viewCount','likeCount','commentCount','likes_per_views','comments_per_views']\n",
    "\n",
    "dat = data1[columns4]\n",
    "dat1 = dat.drop_duplicates()\n",
    "print(len(dat1))"
   ]
  },
  {
   "cell_type": "code",
   "execution_count": 12,
   "id": "28433b97",
   "metadata": {},
   "outputs": [],
   "source": [
    "dat2 = dat1[['url','likeCount']]"
   ]
  },
  {
   "cell_type": "code",
   "execution_count": 60,
   "id": "4f35a5be",
   "metadata": {},
   "outputs": [
    {
     "data": {
      "text/html": [
       "<div>\n",
       "<style scoped>\n",
       "    .dataframe tbody tr th:only-of-type {\n",
       "        vertical-align: middle;\n",
       "    }\n",
       "\n",
       "    .dataframe tbody tr th {\n",
       "        vertical-align: top;\n",
       "    }\n",
       "\n",
       "    .dataframe thead th {\n",
       "        text-align: right;\n",
       "    }\n",
       "</style>\n",
       "<table border=\"1\" class=\"dataframe\">\n",
       "  <thead>\n",
       "    <tr style=\"text-align: right;\">\n",
       "      <th></th>\n",
       "      <th>url</th>\n",
       "      <th>likeCount</th>\n",
       "    </tr>\n",
       "  </thead>\n",
       "  <tbody>\n",
       "    <tr>\n",
       "      <th>68196</th>\n",
       "      <td>kcftkEN3vmg</td>\n",
       "      <td>8</td>\n",
       "    </tr>\n",
       "    <tr>\n",
       "      <th>57543</th>\n",
       "      <td>brvGSr_BfQw</td>\n",
       "      <td>7</td>\n",
       "    </tr>\n",
       "    <tr>\n",
       "      <th>16685</th>\n",
       "      <td>DED1fp04298</td>\n",
       "      <td>6</td>\n",
       "    </tr>\n",
       "    <tr>\n",
       "      <th>15340</th>\n",
       "      <td>dBRdzeC7kz4</td>\n",
       "      <td>5</td>\n",
       "    </tr>\n",
       "    <tr>\n",
       "      <th>111246</th>\n",
       "      <td>XZn4opyPfEI</td>\n",
       "      <td>5</td>\n",
       "    </tr>\n",
       "    <tr>\n",
       "      <th>82855</th>\n",
       "      <td>-xK80YG33q0</td>\n",
       "      <td>5</td>\n",
       "    </tr>\n",
       "    <tr>\n",
       "      <th>126488</th>\n",
       "      <td>zSM6sAtyvyg</td>\n",
       "      <td>4</td>\n",
       "    </tr>\n",
       "    <tr>\n",
       "      <th>98300</th>\n",
       "      <td>xhVCOdS9mXo</td>\n",
       "      <td>4</td>\n",
       "    </tr>\n",
       "    <tr>\n",
       "      <th>61527</th>\n",
       "      <td>V5JEThKxsc4</td>\n",
       "      <td>4</td>\n",
       "    </tr>\n",
       "    <tr>\n",
       "      <th>102296</th>\n",
       "      <td>xM_VQ3NZsf8</td>\n",
       "      <td>1</td>\n",
       "    </tr>\n",
       "    <tr>\n",
       "      <th>65338</th>\n",
       "      <td>J7QKeV2-ghk</td>\n",
       "      <td>1</td>\n",
       "    </tr>\n",
       "    <tr>\n",
       "      <th>50967</th>\n",
       "      <td>g8qLBtTnALs</td>\n",
       "      <td>1</td>\n",
       "    </tr>\n",
       "    <tr>\n",
       "      <th>100154</th>\n",
       "      <td>XkgGZobFUq0</td>\n",
       "      <td>0</td>\n",
       "    </tr>\n",
       "    <tr>\n",
       "      <th>66365</th>\n",
       "      <td>jgKyFA5i9Ng</td>\n",
       "      <td>0</td>\n",
       "    </tr>\n",
       "    <tr>\n",
       "      <th>13900</th>\n",
       "      <td>d4gb13p2Vao</td>\n",
       "      <td>0</td>\n",
       "    </tr>\n",
       "  </tbody>\n",
       "</table>\n",
       "</div>"
      ],
      "text/plain": [
       "                url  likeCount\n",
       "68196   kcftkEN3vmg          8\n",
       "57543   brvGSr_BfQw          7\n",
       "16685   DED1fp04298          6\n",
       "15340   dBRdzeC7kz4          5\n",
       "111246  XZn4opyPfEI          5\n",
       "82855   -xK80YG33q0          5\n",
       "126488  zSM6sAtyvyg          4\n",
       "98300   xhVCOdS9mXo          4\n",
       "61527   V5JEThKxsc4          4\n",
       "102296  xM_VQ3NZsf8          1\n",
       "65338   J7QKeV2-ghk          1\n",
       "50967   g8qLBtTnALs          1\n",
       "100154  XkgGZobFUq0          0\n",
       "66365   jgKyFA5i9Ng          0\n",
       "13900   d4gb13p2Vao          0"
      ]
     },
     "execution_count": 60,
     "metadata": {},
     "output_type": "execute_result"
    }
   ],
   "source": [
    "dat3 = dat2.sort_values(by='likeCount', ascending=False)\n",
    "dat3.head(15)\n",
    "dat3 = dat3.iloc[50:len(dat3)]\n",
    "dat3.tail(15)\n"
   ]
  },
  {
   "cell_type": "code",
   "execution_count": 56,
   "id": "cbe1149b",
   "metadata": {},
   "outputs": [
    {
     "data": {
      "text/plain": [
       "<seaborn.axisgrid.FacetGrid at 0x22d98953af0>"
      ]
     },
     "execution_count": 56,
     "metadata": {},
     "output_type": "execute_result"
    },
    {
     "data": {
      "image/png": "[encoded data removed]",
      "text/plain": [
       "<Figure size 500x500 with 1 Axes>"
      ]
     },
     "metadata": {},
     "output_type": "display_data"
    }
   ],
   "source": [
    "sns.displot(dat3, x='likeCount')"
   ]
  },
  {
   "cell_type": "code",
   "execution_count": 38,
   "id": "1aa6d9a8",
   "metadata": {},
   "outputs": [
    {
     "data": {
      "image/png": "[encoded data removed]",
      "text/plain": [
       "<Figure size 640x480 with 1 Axes>"
      ]
     },
     "metadata": {},
     "output_type": "display_data"
    }
   ],
   "source": [
    "\n",
    "res = sns.kdeplot(dat3,color='green',fill=True)\n",
    "plt.show()"
   ]
  },
  {
   "cell_type": "code",
   "execution_count": 49,
   "id": "6bf042d7",
   "metadata": {},
   "outputs": [
    {
     "name": "stdout",
     "output_type": "stream",
     "text": [
      "Mean of the likecount is 1637.2181208053692 \n",
      "Standard Deviation of the sample is 2165.0329744708165 \n"
     ]
    },
    {
     "data": {
      "text/plain": [
       "298"
      ]
     },
     "execution_count": 49,
     "metadata": {},
     "output_type": "execute_result"
    }
   ],
   "source": [
    "print(\"Mean of the likecount is % s \" %(statistics.mean(dat3['likeCount']))) \n",
    "print(\"Standard Deviation of the sample is % s \"%(statistics.stdev(dat3['likeCount'])))\n",
    "statistics.median(dat3['likeCount'])\n",
    "np.std(dat3['likeCount'])\n",
    "len(dat3)"
   ]
  },
  {
   "cell_type": "code",
   "execution_count": 50,
   "id": "4d774ef4",
   "metadata": {},
   "outputs": [
    {
     "data": {
      "text/plain": [
       "0"
      ]
     },
     "execution_count": 50,
     "metadata": {},
     "output_type": "execute_result"
    }
   ],
   "source": [
    "statistics.harmonic_mean(dat3['likeCount'])\n",
    "# 1.227,75 = 37%, 1095 = 33%"
   ]
  },
  {
   "cell_type": "code",
   "execution_count": 59,
   "id": "d1bdea81",
   "metadata": {},
   "outputs": [
    {
     "name": "stdout",
     "output_type": "stream",
     "text": [
      "url          EgmNEgIFBTQ\n",
      "likeCount           1452\n",
      "Name: 43803, dtype: object\n",
      "url          Zz-E8AexUjc\n",
      "likeCount            352\n",
      "Name: 133126, dtype: object\n",
      "url          d4gb13p2Vao\n",
      "likeCount              0\n",
      "Name: 13900, dtype: object\n"
     ]
    }
   ],
   "source": [
    "print(dat3.iloc[100])\n",
    "print(dat3.iloc[200])\n",
    "print(dat3.iloc[297])"
   ]
  },
  {
   "cell_type": "code",
   "execution_count": 76,
   "id": "8d308185",
   "metadata": {},
   "outputs": [
    {
     "data": {
      "text/html": [
       "<div>\n",
       "<style scoped>\n",
       "    .dataframe tbody tr th:only-of-type {\n",
       "        vertical-align: middle;\n",
       "    }\n",
       "\n",
       "    .dataframe tbody tr th {\n",
       "        vertical-align: top;\n",
       "    }\n",
       "\n",
       "    .dataframe thead th {\n",
       "        text-align: right;\n",
       "    }\n",
       "</style>\n",
       "<table border=\"1\" class=\"dataframe\">\n",
       "  <thead>\n",
       "    <tr style=\"text-align: right;\">\n",
       "      <th></th>\n",
       "      <th>url</th>\n",
       "      <th>commentCount</th>\n",
       "    </tr>\n",
       "  </thead>\n",
       "  <tbody>\n",
       "    <tr>\n",
       "      <th>130027</th>\n",
       "      <td>zv750BWrUhY</td>\n",
       "      <td>2715</td>\n",
       "    </tr>\n",
       "    <tr>\n",
       "      <th>89272</th>\n",
       "      <td>XG0_olXLkKg</td>\n",
       "      <td>2687</td>\n",
       "    </tr>\n",
       "    <tr>\n",
       "      <th>18592</th>\n",
       "      <td>dJaLU0w5Do4</td>\n",
       "      <td>2570</td>\n",
       "    </tr>\n",
       "    <tr>\n",
       "      <th>68221</th>\n",
       "      <td>kcrO-lf345o</td>\n",
       "      <td>2542</td>\n",
       "    </tr>\n",
       "    <tr>\n",
       "      <th>5000</th>\n",
       "      <td>cTfmQht0AdE</td>\n",
       "      <td>2453</td>\n",
       "    </tr>\n",
       "    <tr>\n",
       "      <th>113642</th>\n",
       "      <td>z9Cym8YHP94</td>\n",
       "      <td>2272</td>\n",
       "    </tr>\n",
       "    <tr>\n",
       "      <th>113268</th>\n",
       "      <td>Z8yW5cyXXRc</td>\n",
       "      <td>2248</td>\n",
       "    </tr>\n",
       "    <tr>\n",
       "      <th>121778</th>\n",
       "      <td>zKaIlT_lK1s</td>\n",
       "      <td>2220</td>\n",
       "    </tr>\n",
       "    <tr>\n",
       "      <th>86998</th>\n",
       "      <td>XeK3VLmwatU</td>\n",
       "      <td>2206</td>\n",
       "    </tr>\n",
       "    <tr>\n",
       "      <th>77165</th>\n",
       "      <td>wcAXkD9DjD8</td>\n",
       "      <td>2137</td>\n",
       "    </tr>\n",
       "    <tr>\n",
       "      <th>82445</th>\n",
       "      <td>WEJJUGJZxpU</td>\n",
       "      <td>2095</td>\n",
       "    </tr>\n",
       "    <tr>\n",
       "      <th>1238</th>\n",
       "      <td>Clu36dt2y88</td>\n",
       "      <td>2070</td>\n",
       "    </tr>\n",
       "    <tr>\n",
       "      <th>23021</th>\n",
       "      <td>DoXRMooXv0c</td>\n",
       "      <td>2021</td>\n",
       "    </tr>\n",
       "    <tr>\n",
       "      <th>16513</th>\n",
       "      <td>dDTBnsqxZ3k</td>\n",
       "      <td>1765</td>\n",
       "    </tr>\n",
       "    <tr>\n",
       "      <th>47872</th>\n",
       "      <td>g0ha6Mb5_YQ</td>\n",
       "      <td>1574</td>\n",
       "    </tr>\n",
       "  </tbody>\n",
       "</table>\n",
       "</div>"
      ],
      "text/plain": [
       "                url  commentCount\n",
       "130027  zv750BWrUhY          2715\n",
       "89272   XG0_olXLkKg          2687\n",
       "18592   dJaLU0w5Do4          2570\n",
       "68221   kcrO-lf345o          2542\n",
       "5000    cTfmQht0AdE          2453\n",
       "113642  z9Cym8YHP94          2272\n",
       "113268  Z8yW5cyXXRc          2248\n",
       "121778  zKaIlT_lK1s          2220\n",
       "86998   XeK3VLmwatU          2206\n",
       "77165   wcAXkD9DjD8          2137\n",
       "82445   WEJJUGJZxpU          2095\n",
       "1238    Clu36dt2y88          2070\n",
       "23021   DoXRMooXv0c          2021\n",
       "16513   dDTBnsqxZ3k          1765\n",
       "47872   g0ha6Mb5_YQ          1574"
      ]
     },
     "execution_count": 76,
     "metadata": {},
     "output_type": "execute_result"
    }
   ],
   "source": [
    "dat21 = dat1[['url','commentCount']]\n",
    "dat31 = dat21.sort_values(by='commentCount', ascending=False)\n",
    "dat31.head(15)\n",
    "dat31 = dat31.iloc[25:len(dat31)]\n",
    "dat31.head(15)\n",
    "# print(len(dat31))"
   ]
  },
  {
   "cell_type": "code",
   "execution_count": 71,
   "id": "30c3d341",
   "metadata": {},
   "outputs": [
    {
     "data": {
      "text/plain": [
       "<seaborn.axisgrid.FacetGrid at 0x22d9df18580>"
      ]
     },
     "execution_count": 71,
     "metadata": {},
     "output_type": "execute_result"
    },
    {
     "data": {
      "image/png": "[encoded data removed]",
      "text/plain": [
       "<Figure size 500x500 with 1 Axes>"
      ]
     },
     "metadata": {},
     "output_type": "display_data"
    }
   ],
   "source": [
    "sns.displot(dat31, x='commentCount')"
   ]
  },
  {
   "cell_type": "code",
   "execution_count": 72,
   "id": "fc782176",
   "metadata": {},
   "outputs": [
    {
     "data": {
      "image/png": "[encoded data removed]",
      "text/plain": [
       "<Figure size 640x480 with 1 Axes>"
      ]
     },
     "metadata": {},
     "output_type": "display_data"
    }
   ],
   "source": [
    "res = sns.kdeplot(dat31,color='red',fill=True)\n",
    "plt.show()"
   ]
  },
  {
   "cell_type": "code",
   "execution_count": 73,
   "id": "08bb9405",
   "metadata": {},
   "outputs": [
    {
     "name": "stdout",
     "output_type": "stream",
     "text": [
      "Mean of the commentCount is 279.7894736842105 \n",
      "Standard Deviation of the sample is 514.9468032713784 \n"
     ]
    },
    {
     "data": {
      "text/plain": [
       "514.1490540653726"
      ]
     },
     "execution_count": 73,
     "metadata": {},
     "output_type": "execute_result"
    }
   ],
   "source": [
    "print(\"Mean of the commentCount is % s \" %(statistics.mean(dat31['commentCount']))) \n",
    "print(\"Standard Deviation of the sample is % s \"%(statistics.stdev(dat31['commentCount'])))\n",
    "statistics.median(dat31['commentCount'])\n",
    "np.std(dat31['commentCount'])"
   ]
  },
  {
   "cell_type": "code",
   "execution_count": 75,
   "id": "406a1705",
   "metadata": {},
   "outputs": [
    {
     "name": "stdout",
     "output_type": "stream",
     "text": [
      "url             ZYpqxlkaenk\n",
      "commentCount            177\n",
      "Name: 132229, dtype: object\n",
      "url             CLzi3okueM8\n",
      "commentCount             20\n",
      "Name: 1360, dtype: object\n",
      "url             _GBSwxyPuaE\n",
      "commentCount              0\n",
      "Name: 63944, dtype: object\n"
     ]
    }
   ],
   "source": [
    "print(dat31.iloc[107])\n",
    "print(dat31.iloc[214])\n",
    "print(dat31.iloc[322])"
   ]
  },
  {
   "cell_type": "code",
   "execution_count": 82,
   "id": "e6fdd825",
   "metadata": {},
   "outputs": [
    {
     "data": {
      "text/html": [
       "<div>\n",
       "<style scoped>\n",
       "    .dataframe tbody tr th:only-of-type {\n",
       "        vertical-align: middle;\n",
       "    }\n",
       "\n",
       "    .dataframe tbody tr th {\n",
       "        vertical-align: top;\n",
       "    }\n",
       "\n",
       "    .dataframe thead th {\n",
       "        text-align: right;\n",
       "    }\n",
       "</style>\n",
       "<table border=\"1\" class=\"dataframe\">\n",
       "  <thead>\n",
       "    <tr style=\"text-align: right;\">\n",
       "      <th></th>\n",
       "      <th>url</th>\n",
       "      <th>likes_per_views</th>\n",
       "    </tr>\n",
       "  </thead>\n",
       "  <tbody>\n",
       "    <tr>\n",
       "      <th>72004</th>\n",
       "      <td>kWSIFh8ICaA</td>\n",
       "      <td>0.026327</td>\n",
       "    </tr>\n",
       "    <tr>\n",
       "      <th>68757</th>\n",
       "      <td>HtYOm59fys8</td>\n",
       "      <td>0.024354</td>\n",
       "    </tr>\n",
       "    <tr>\n",
       "      <th>52031</th>\n",
       "      <td>GEVMkdScUZc</td>\n",
       "      <td>0.021980</td>\n",
       "    </tr>\n",
       "    <tr>\n",
       "      <th>63063</th>\n",
       "      <td>YkyTQP27H6s</td>\n",
       "      <td>0.021087</td>\n",
       "    </tr>\n",
       "    <tr>\n",
       "      <th>124119</th>\n",
       "      <td>ZOJCmPKaYN8</td>\n",
       "      <td>0.020813</td>\n",
       "    </tr>\n",
       "    <tr>\n",
       "      <th>89272</th>\n",
       "      <td>XG0_olXLkKg</td>\n",
       "      <td>0.018712</td>\n",
       "    </tr>\n",
       "    <tr>\n",
       "      <th>77165</th>\n",
       "      <td>wcAXkD9DjD8</td>\n",
       "      <td>0.016803</td>\n",
       "    </tr>\n",
       "    <tr>\n",
       "      <th>39948</th>\n",
       "      <td>e8374g64kCE</td>\n",
       "      <td>0.013233</td>\n",
       "    </tr>\n",
       "    <tr>\n",
       "      <th>113268</th>\n",
       "      <td>Z8yW5cyXXRc</td>\n",
       "      <td>0.012591</td>\n",
       "    </tr>\n",
       "    <tr>\n",
       "      <th>79899</th>\n",
       "      <td>wczdECcwRw0</td>\n",
       "      <td>0.012518</td>\n",
       "    </tr>\n",
       "    <tr>\n",
       "      <th>112706</th>\n",
       "      <td>z6Pj5oJzYLM</td>\n",
       "      <td>0.011816</td>\n",
       "    </tr>\n",
       "    <tr>\n",
       "      <th>1238</th>\n",
       "      <td>Clu36dt2y88</td>\n",
       "      <td>0.011452</td>\n",
       "    </tr>\n",
       "    <tr>\n",
       "      <th>113642</th>\n",
       "      <td>z9Cym8YHP94</td>\n",
       "      <td>0.010583</td>\n",
       "    </tr>\n",
       "    <tr>\n",
       "      <th>117477</th>\n",
       "      <td>ZEKqLxtjwDQ</td>\n",
       "      <td>0.010447</td>\n",
       "    </tr>\n",
       "    <tr>\n",
       "      <th>26340</th>\n",
       "      <td>dUig9IAwggM</td>\n",
       "      <td>0.009935</td>\n",
       "    </tr>\n",
       "  </tbody>\n",
       "</table>\n",
       "</div>"
      ],
      "text/plain": [
       "                url  likes_per_views\n",
       "72004   kWSIFh8ICaA         0.026327\n",
       "68757   HtYOm59fys8         0.024354\n",
       "52031   GEVMkdScUZc         0.021980\n",
       "63063   YkyTQP27H6s         0.021087\n",
       "124119  ZOJCmPKaYN8         0.020813\n",
       "89272   XG0_olXLkKg         0.018712\n",
       "77165   wcAXkD9DjD8         0.016803\n",
       "39948   e8374g64kCE         0.013233\n",
       "113268  Z8yW5cyXXRc         0.012591\n",
       "79899   wczdECcwRw0         0.012518\n",
       "112706  z6Pj5oJzYLM         0.011816\n",
       "1238    Clu36dt2y88         0.011452\n",
       "113642  z9Cym8YHP94         0.010583\n",
       "117477  ZEKqLxtjwDQ         0.010447\n",
       "26340   dUig9IAwggM         0.009935"
      ]
     },
     "execution_count": 82,
     "metadata": {},
     "output_type": "execute_result"
    }
   ],
   "source": [
    "dat22 = dat1[['url','likes_per_views']]\n",
    "dat32 = dat22.sort_values(by='likes_per_views', ascending=False)\n",
    "dat32.head(15)\n",
    "# dat32 = dat32.iloc[25:len(dat32)]\n",
    "dat32.head(15)\n",
    "# print(len(dat32))\n"
   ]
  },
  {
   "cell_type": "code",
   "execution_count": 84,
   "id": "06442756",
   "metadata": {},
   "outputs": [
    {
     "data": {
      "text/plain": [
       "<seaborn.axisgrid.FacetGrid at 0x22d9e16dbb0>"
      ]
     },
     "execution_count": 84,
     "metadata": {},
     "output_type": "execute_result"
    },
    {
     "data": {
      "image/png": "[encoded data removed]",
      "text/plain": [
       "<Figure size 500x500 with 1 Axes>"
      ]
     },
     "metadata": {},
     "output_type": "display_data"
    }
   ],
   "source": [
    "sns.displot(dat32, x='likes_per_views')"
   ]
  },
  {
   "cell_type": "code",
   "execution_count": 86,
   "id": "c6964da0",
   "metadata": {},
   "outputs": [
    {
     "data": {
      "image/png": "[encoded data removed]",
      "text/plain": [
       "<Figure size 640x480 with 1 Axes>"
      ]
     },
     "metadata": {},
     "output_type": "display_data"
    }
   ],
   "source": [
    "res = sns.kdeplot(dat32,color='green',fill=True)\n",
    "plt.show()"
   ]
  },
  {
   "cell_type": "code",
   "execution_count": 87,
   "id": "7599fbc4",
   "metadata": {},
   "outputs": [
    {
     "name": "stdout",
     "output_type": "stream",
     "text": [
      "url                zwY6acYYO3o\n",
      "likes_per_views       0.002634\n",
      "Name: 131441, dtype: object\n",
      "url                x4amZnI_1dE\n",
      "likes_per_views       0.000688\n",
      "Name: 83718, dtype: object\n",
      "url                XkgGZobFUq0\n",
      "likes_per_views            0.0\n",
      "Name: 100154, dtype: object\n"
     ]
    }
   ],
   "source": [
    "print(dat32.iloc[116])\n",
    "print(dat32.iloc[232])\n",
    "print(dat32.iloc[347])"
   ]
  },
  {
   "cell_type": "code",
   "execution_count": 88,
   "id": "2d29ea33",
   "metadata": {},
   "outputs": [
    {
     "name": "stdout",
     "output_type": "stream",
     "text": [
      "Mean of the likes_per_views is 0.002664671526056821 \n",
      "Standard Deviation of the sample is 0.003734696509710116 \n"
     ]
    },
    {
     "data": {
      "text/plain": [
       "0.003729326706056205"
      ]
     },
     "execution_count": 88,
     "metadata": {},
     "output_type": "execute_result"
    }
   ],
   "source": [
    "print(\"Mean of the likes_per_views is % s \" %(statistics.mean(dat32['likes_per_views']))) \n",
    "print(\"Standard Deviation of the sample is % s \"%(statistics.stdev(dat32['likes_per_views'])))\n",
    "statistics.median(dat32['likes_per_views'])\n",
    "np.std(dat32['likes_per_views'])"
   ]
  },
  {
   "cell_type": "code",
   "execution_count": 92,
   "id": "ce3118b8",
   "metadata": {},
   "outputs": [
    {
     "data": {
      "text/html": [
       "<div>\n",
       "<style scoped>\n",
       "    .dataframe tbody tr th:only-of-type {\n",
       "        vertical-align: middle;\n",
       "    }\n",
       "\n",
       "    .dataframe tbody tr th {\n",
       "        vertical-align: top;\n",
       "    }\n",
       "\n",
       "    .dataframe thead th {\n",
       "        text-align: right;\n",
       "    }\n",
       "</style>\n",
       "<table border=\"1\" class=\"dataframe\">\n",
       "  <thead>\n",
       "    <tr style=\"text-align: right;\">\n",
       "      <th></th>\n",
       "      <th>url</th>\n",
       "      <th>comments_per_views</th>\n",
       "    </tr>\n",
       "  </thead>\n",
       "  <tbody>\n",
       "    <tr>\n",
       "      <th>104283</th>\n",
       "      <td>XqORbzbEfoM</td>\n",
       "      <td>0.002647</td>\n",
       "    </tr>\n",
       "    <tr>\n",
       "      <th>18592</th>\n",
       "      <td>dJaLU0w5Do4</td>\n",
       "      <td>0.002473</td>\n",
       "    </tr>\n",
       "    <tr>\n",
       "      <th>68671</th>\n",
       "      <td>htEtTra7rdw</td>\n",
       "      <td>0.002211</td>\n",
       "    </tr>\n",
       "    <tr>\n",
       "      <th>52698</th>\n",
       "      <td>giGkt5oAhT0</td>\n",
       "      <td>0.002050</td>\n",
       "    </tr>\n",
       "    <tr>\n",
       "      <th>110463</th>\n",
       "      <td>XwvKXU8Tnx0</td>\n",
       "      <td>0.002046</td>\n",
       "    </tr>\n",
       "    <tr>\n",
       "      <th>23021</th>\n",
       "      <td>DoXRMooXv0c</td>\n",
       "      <td>0.002029</td>\n",
       "    </tr>\n",
       "    <tr>\n",
       "      <th>0</th>\n",
       "      <td>-cSFPIwMEq4</td>\n",
       "      <td>0.001986</td>\n",
       "    </tr>\n",
       "    <tr>\n",
       "      <th>13124</th>\n",
       "      <td>D3KsGTIeO7A</td>\n",
       "      <td>0.001758</td>\n",
       "    </tr>\n",
       "    <tr>\n",
       "      <th>70570</th>\n",
       "      <td>F-z_WSTjr7c</td>\n",
       "      <td>0.001729</td>\n",
       "    </tr>\n",
       "    <tr>\n",
       "      <th>121778</th>\n",
       "      <td>zKaIlT_lK1s</td>\n",
       "      <td>0.001692</td>\n",
       "    </tr>\n",
       "    <tr>\n",
       "      <th>55232</th>\n",
       "      <td>gqkNPcUMffU</td>\n",
       "      <td>0.001587</td>\n",
       "    </tr>\n",
       "    <tr>\n",
       "      <th>48118</th>\n",
       "      <td>G1kkx2m-JSg</td>\n",
       "      <td>0.001568</td>\n",
       "    </tr>\n",
       "    <tr>\n",
       "      <th>124119</th>\n",
       "      <td>ZOJCmPKaYN8</td>\n",
       "      <td>0.001559</td>\n",
       "    </tr>\n",
       "    <tr>\n",
       "      <th>64646</th>\n",
       "      <td>f_SwD7RveNE</td>\n",
       "      <td>0.001533</td>\n",
       "    </tr>\n",
       "    <tr>\n",
       "      <th>35590</th>\n",
       "      <td>e3hB3iOQKjY</td>\n",
       "      <td>0.001404</td>\n",
       "    </tr>\n",
       "  </tbody>\n",
       "</table>\n",
       "</div>"
      ],
      "text/plain": [
       "                url  comments_per_views\n",
       "104283  XqORbzbEfoM            0.002647\n",
       "18592   dJaLU0w5Do4            0.002473\n",
       "68671   htEtTra7rdw            0.002211\n",
       "52698   giGkt5oAhT0            0.002050\n",
       "110463  XwvKXU8Tnx0            0.002046\n",
       "23021   DoXRMooXv0c            0.002029\n",
       "0       -cSFPIwMEq4            0.001986\n",
       "13124   D3KsGTIeO7A            0.001758\n",
       "70570   F-z_WSTjr7c            0.001729\n",
       "121778  zKaIlT_lK1s            0.001692\n",
       "55232   gqkNPcUMffU            0.001587\n",
       "48118   G1kkx2m-JSg            0.001568\n",
       "124119  ZOJCmPKaYN8            0.001559\n",
       "64646   f_SwD7RveNE            0.001533\n",
       "35590   e3hB3iOQKjY            0.001404"
      ]
     },
     "execution_count": 92,
     "metadata": {},
     "output_type": "execute_result"
    }
   ],
   "source": [
    "dat23 = dat1[['url','comments_per_views']]\n",
    "dat33 = dat23.sort_values(by='comments_per_views', ascending=False)\n",
    "dat33.head(15)\n",
    "dat33 = dat33.iloc[4:len(dat33)]\n",
    "dat33.head(15)\n",
    "# print(len(dat33))"
   ]
  },
  {
   "cell_type": "code",
   "execution_count": 91,
   "id": "ead4b633",
   "metadata": {},
   "outputs": [
    {
     "data": {
      "text/plain": [
       "<seaborn.axisgrid.FacetGrid at 0x22d9e343eb0>"
      ]
     },
     "execution_count": 91,
     "metadata": {},
     "output_type": "execute_result"
    },
    {
     "data": {
      "image/png": "[encoded data removed]",
      "text/plain": [
       "<Figure size 500x500 with 1 Axes>"
      ]
     },
     "metadata": {},
     "output_type": "display_data"
    }
   ],
   "source": [
    "sns.displot(dat33, x='comments_per_views')"
   ]
  },
  {
   "cell_type": "code",
   "execution_count": 93,
   "id": "b0895810",
   "metadata": {},
   "outputs": [
    {
     "data": {
      "image/png": "[encoded data removed]",
      "text/plain": [
       "<Figure size 640x480 with 1 Axes>"
      ]
     },
     "metadata": {},
     "output_type": "display_data"
    }
   ],
   "source": [
    "res = sns.kdeplot(dat33,color='green',fill=True)\n",
    "plt.show()"
   ]
  },
  {
   "cell_type": "code",
   "execution_count": 95,
   "id": "0d8728da",
   "metadata": {},
   "outputs": [
    {
     "name": "stdout",
     "output_type": "stream",
     "text": [
      "Mean of the likes_per_views is 0.00030107065198394 \n",
      "Standard Deviation of the sample is 0.0004488933039692892 \n"
     ]
    },
    {
     "data": {
      "text/plain": [
       "0.0004482403679088186"
      ]
     },
     "execution_count": 95,
     "metadata": {},
     "output_type": "execute_result"
    }
   ],
   "source": [
    "print(\"Mean of the likes_per_views is % s \" %(statistics.mean(dat33['comments_per_views']))) \n",
    "print(\"Standard Deviation of the sample is % s \"%(statistics.stdev(dat33['comments_per_views'])))\n",
    "statistics.median(dat33['comments_per_views'])\n",
    "np.std(dat33['comments_per_views'])"
   ]
  },
  {
   "cell_type": "code",
   "execution_count": 96,
   "id": "46e083b7",
   "metadata": {},
   "outputs": [
    {
     "name": "stdout",
     "output_type": "stream",
     "text": [
      "344\n"
     ]
    }
   ],
   "source": [
    "print(len(dat33))"
   ]
  },
  {
   "cell_type": "code",
   "execution_count": 101,
   "id": "d881c131",
   "metadata": {},
   "outputs": [
    {
     "name": "stdout",
     "output_type": "stream",
     "text": [
      "url                ZJMGS7l0wT8\n",
      "likes_per_views        0.00268\n",
      "Name: 120409, dtype: object\n",
      "url                efstterUes4\n",
      "likes_per_views       0.000767\n",
      "Name: 42977, dtype: object\n",
      "url                d4gb13p2Vao\n",
      "likes_per_views            0.0\n",
      "Name: 13900, dtype: object\n"
     ]
    }
   ],
   "source": [
    "print(dat32.iloc[114])\n",
    "print(dat32.iloc[228])\n",
    "print(dat32.iloc[346])"
   ]
  },
  {
   "cell_type": "code",
   "execution_count": null,
   "id": "3b88ba80",
   "metadata": {},
   "outputs": [],
   "source": []
  }
 ],
 "metadata": {
  "kernelspec": {
   "display_name": "Python 3 (ipykernel)",
   "language": "python",
   "name": "python3"
  },
  "language_info": {
   "codemirror_mode": {
    "name": "ipython",
    "version": 3
   },
   "file_extension": ".py",
   "mimetype": "text/x-python",
   "name": "python",
   "nbconvert_exporter": "python",
   "pygments_lexer": "ipython3",
   "version": "3.8.3"
  }
 },
 "nbformat": 4,
 "nbformat_minor": 5
}
